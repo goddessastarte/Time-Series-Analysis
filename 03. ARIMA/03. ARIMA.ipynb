{
 "cells": [
  {
   "cell_type": "markdown",
   "id": "f0f75c4e",
   "metadata": {},
   "source": [
    "# What is ARIMA \n",
    "- ARIMA is a general class of statistical models for time series analysis forecasting\n",
    "- ARIMA uses a time series past values and/or forecast errors to predict future values\n",
    "- ARIMA model assumption - stationary: the time series has it statistical properties remain constant across time\n",
    "# ARIMA(p, d, q)\n",
    "- AR (Auto-Regressive) : the time series is linearly regressed on its own past values \n",
    "    - p: the number of past values included in the AR model\n",
    "    $$ y_t = c + \\phi_1 y_{t-1} + \\phi_2 y_{t-2} + \\cdots + \\phi_p y_{t-p} + \\varepsilon_t $$ \n",
    "- I (Integrated) : if not stationary, the time series can be differenced to become stationary, i.e., compute the differences between consecutive observations \n",
    "    - d: the number of times the time series is differenced\n",
    "    $$ \\nabla y_t = y_t - y_{t-1} $$\n",
    "- MA (Moving Averages) : the time series is regressed on the past forecast errors included in the MA model\n",
    "    - q: the number of past forecast errors included in the MA model\n",
    "  $$ y_t = c + \\varepsilon_t + \\theta_1 \\varepsilon_{t-1} + \\theta_2 \\varepsilon_{t-2} + \\cdots + \\theta_q \\varepsilon_{t-q} $$ \n",
    "# ARIMA (p, d, q) full equation \n",
    " $$ \\nabla y_t = c + \\varphi_1 \\nabla y_{t-1} + \\cdots + \\varphi_p \\nabla y_{t-p} + \\varepsilon_t + \\theta_1 \\varepsilon_{t-1} + \\cdots + \\theta_q \\varepsilon_{t-q}\n",
    "$$ "
   ]
  },
  {
   "cell_type": "markdown",
   "id": "bbde4ba2",
   "metadata": {},
   "source": []
  }
 ],
 "metadata": {
  "language_info": {
   "name": "python"
  }
 },
 "nbformat": 4,
 "nbformat_minor": 5
}
