{
 "cells": [
  {
   "cell_type": "markdown",
   "id": "485fe43d",
   "metadata": {},
   "source": [
    "## Autoregression : AR(p) \n",
    "**Autoregression (AR)** is a time series modeling technique where the current value of a variable is predicted based on **its own past values**.\n",
    "$$\n",
    "y_t = c + \\phi_1 y_{t-1} + \\phi_2 y_{t-2} + \\cdots + \\phi_p y_{t-p} + \\varepsilon_t\n",
    "$$\n",
    "Where:\n",
    "- $ y_t $: current value  \n",
    "- $ y_{t-1}, y_{t-2}, ..., y_{t-p} $: past values  \n",
    "- $c$ : constant  \n",
    "- $\\phi_1, ..., \\phi_p$: coefficients  \n",
    "- $ \\varepsilon_t$: error term (white noise)\n",
    "\n",
    "**Example :** If today’s value depends on the past 2 days: $y_t = c + \\phi_1 y_{t-1} + \\phi_2 y_{t-2} + \\varepsilon_t$\n",
    "\n",
    "**it's useful :**\n",
    "- When **past behavior** helps predict the future.\n",
    "- Commonly used in:\n",
    "  - Economics\n",
    "  - Finance\n",
    "  - Weather forecasting\n",
    "  - Sales predictions"
   ]
  }
 ],
 "metadata": {
  "language_info": {
   "name": "python"
  }
 },
 "nbformat": 4,
 "nbformat_minor": 5
}
